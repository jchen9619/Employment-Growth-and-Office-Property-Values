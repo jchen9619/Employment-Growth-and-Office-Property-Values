{
 "cells": [
  {
   "cell_type": "markdown",
   "metadata": {},
   "source": [
    "<a id=\"data-source\"></a>\n",
    "## Exploratory Data Analysis - Employment Growth and Office Real Estate Values  \n",
    "\n",
    "Judy Chen"
   ]
  },
  {
   "cell_type": "markdown",
   "metadata": {},
   "source": [
    "Data Dictioanary:<br>\n",
    "https://github.com/jchen9619/Employment-Growth-and-Office-Property-Values/blob/main/Data%20Dictionary%20-%20Preprocessed%20Dataset.ipynb"
   ]
  },
  {
   "cell_type": "code",
   "execution_count": 1,
   "metadata": {},
   "outputs": [],
   "source": [
    "import os\n",
    "import pandas as pd\n",
    "import numpy as np\n",
    "import seaborn as sns\n",
    "import matplotlib.pyplot as plt\n",
    "import warnings\n",
    "warnings.filterwarnings('ignore')\n",
    "\n",
    "%matplotlib inline\n",
    "plt.style.use('fivethirtyeight') "
   ]
  },
  {
   "cell_type": "markdown",
   "metadata": {},
   "source": [
    "### Feature Variables: Bureau of Labor Statistics (BLS) Data\n",
    "---\n",
    "#### Reading in Raw Data\n",
    "Create a list of file names to import: "
   ]
  },
  {
   "cell_type": "code",
   "execution_count": 2,
   "metadata": {
    "scrolled": true
   },
   "outputs": [],
   "source": [
    "path_BLS = '/Users/chenmouse/Desktop/GA-Folder/JudyChenGA0316/JC0316/GA Final Project/BLS/To Use'\n",
    "files_BLS = os.listdir(path_BLS)\n",
    "files_BLS_xlsx = [fb for fb in files_BLS if fb[-4:] == 'xlsx']\n",
    "path_BLS_xlsx=[\"./BLS/To Use/\"+ f2 for f2 in files_BLS_xlsx]"
   ]
  },
  {
   "cell_type": "markdown",
   "metadata": {},
   "source": [
    "**Combine Datasets from May 2020 and May 2010:**"
   ]
  },
  {
   "cell_type": "code",
   "execution_count": 3,
   "metadata": {},
   "outputs": [],
   "source": [
    "BLS_M2020 =pd.read_excel(path_BLS_xlsx[0])\n",
    "BLS_M2010 =pd.read_excel(path_BLS_xlsx[1])"
   ]
  },
  {
   "cell_type": "code",
   "execution_count": 4,
   "metadata": {},
   "outputs": [],
   "source": [
    "BLS_M2020['Year']=2020\n",
    "BLS_M2010['Year']=2010"
   ]
  },
  {
   "cell_type": "markdown",
   "metadata": {},
   "source": [
    "Match column names for *BLS_M2010* to *BLS_M2020*:"
   ]
  },
  {
   "cell_type": "code",
   "execution_count": 5,
   "metadata": {},
   "outputs": [],
   "source": [
    "BLS_M2010.rename(columns={'AREA_NAME':'AREA_TITLE', 'GROUP':'O_GROUP','LOC QUOTIENT':'LOC_QUOTIENT'}, inplace=True)"
   ]
  },
  {
   "cell_type": "markdown",
   "metadata": {},
   "source": [
    "Count the number of <u>AREA_TITLE</u> in the two datasets respectively:"
   ]
  },
  {
   "cell_type": "code",
   "execution_count": 6,
   "metadata": {
    "scrolled": true
   },
   "outputs": [
    {
     "name": "stdout",
     "output_type": "stream",
     "text": [
      "Number of MSA - 2010: 11\n",
      "Number of MSA - 2020: 396\n"
     ]
    }
   ],
   "source": [
    "print(\"Number of MSA - 2010: \" + str(len(pd.unique(BLS_M2010['AREA_TITLE']))))\n",
    "print(\"Number of MSA - 2020: \"+str(len(pd.unique(BLS_M2020['AREA_TITLE']))))"
   ]
  },
  {
   "cell_type": "markdown",
   "metadata": {},
   "source": [
    "Since *BLS_M2010* clearly has fewer MSAs, we will subset *BLS_M2020* to only include the MSAs in *BLS_M2010*."
   ]
  },
  {
   "cell_type": "markdown",
   "metadata": {},
   "source": [
    "Create a list for values of <u>PRIM_STATE</u> in <u>BLS_M2010</u>:"
   ]
  },
  {
   "cell_type": "code",
   "execution_count": 7,
   "metadata": {},
   "outputs": [],
   "source": [
    "M2010States=list(pd.unique(BLS_M2010['PRIM_STATE']))"
   ]
  },
  {
   "cell_type": "markdown",
   "metadata": {},
   "source": [
    "Subset *BLS_M2020* to only keep rows where <u>PRIM STATE</u> is in <u>M2010States</u>:"
   ]
  },
  {
   "cell_type": "code",
   "execution_count": 8,
   "metadata": {},
   "outputs": [],
   "source": [
    "mask = BLS_M2020.PRIM_STATE.isin(M2010States)"
   ]
  },
  {
   "cell_type": "code",
   "execution_count": 9,
   "metadata": {},
   "outputs": [],
   "source": [
    "BLS_M2020_10States=BLS_M2020[mask]"
   ]
  },
  {
   "cell_type": "markdown",
   "metadata": {},
   "source": [
    "Create lists of <u>AREA TITLE</u> in *BLS_M2010* and *BLS_M2020_10States*:"
   ]
  },
  {
   "cell_type": "code",
   "execution_count": 10,
   "metadata": {
    "scrolled": false
   },
   "outputs": [],
   "source": [
    "MSA_M2010=list(pd.unique(BLS_M2010['AREA_TITLE']))\n",
    "MSA_M2020=list(pd.unique(BLS_M2020_10States['AREA_TITLE']))"
   ]
  },
  {
   "cell_type": "markdown",
   "metadata": {},
   "source": [
    "Shorten the names in MSA_M2010:"
   ]
  },
  {
   "cell_type": "code",
   "execution_count": 11,
   "metadata": {},
   "outputs": [],
   "source": [
    "MSA_M2010_short = ['Los Angeles','San Francisco',\n",
    "                   'Washington','Miami','Chicago','Boston','Detroit','New York','Philadelphia','Dallas','Seattle']"
   ]
  },
  {
   "cell_type": "markdown",
   "metadata": {},
   "source": [
    "Only keep rows in *BLS_M2020_10States* where the words before \"-\" under <u>AREA_TITLE</u> matches an element of MSA_M2020_short"
   ]
  },
  {
   "cell_type": "code",
   "execution_count": 12,
   "metadata": {},
   "outputs": [],
   "source": [
    "oldlist=list(BLS_M2020_10States.AREA_TITLE)"
   ]
  },
  {
   "cell_type": "code",
   "execution_count": 13,
   "metadata": {},
   "outputs": [],
   "source": [
    "MSA2020BeforeDash=list(BLS_M2020_10States['AREA_TITLE'].str.split('-').str[0])\n",
    "BLS_M2020_10States['AREA_TITLE'] = BLS_M2020_10States['AREA_TITLE'].replace(oldlist,MSA2020BeforeDash)"
   ]
  },
  {
   "cell_type": "code",
   "execution_count": 14,
   "metadata": {},
   "outputs": [],
   "source": [
    "mask2=BLS_M2020_10States['AREA_TITLE'].isin(MSA_M2010_short)"
   ]
  },
  {
   "cell_type": "code",
   "execution_count": 15,
   "metadata": {
    "scrolled": false
   },
   "outputs": [],
   "source": [
    "BLS_M2020_11MSA=BLS_M2020_10States[mask2]"
   ]
  },
  {
   "cell_type": "markdown",
   "metadata": {},
   "source": [
    "Replace <u>AREA TITLE</u> in *BLS_M2010* with elements of MSA_M2010_short:"
   ]
  },
  {
   "cell_type": "code",
   "execution_count": 16,
   "metadata": {},
   "outputs": [
    {
     "data": {
      "text/plain": [
       "New York         756\n",
       "Los Angeles      751\n",
       "Chicago          747\n",
       "Philadelphia     732\n",
       "Dallas           727\n",
       "Boston           721\n",
       "Washington       713\n",
       "Seattle          710\n",
       "San Francisco    709\n",
       "Miami            696\n",
       "Detroit          678\n",
       "Name: AREA_TITLE, dtype: int64"
      ]
     },
     "execution_count": 16,
     "metadata": {},
     "output_type": "execute_result"
    }
   ],
   "source": [
    "oldlist2010=list(BLS_M2010.AREA_TITLE)\n",
    "MSA2010BeforeDash=list(BLS_M2010['AREA_TITLE'].str.split('-').str[0])\n",
    "BLS_M2010['AREA_TITLE'] = BLS_M2010['AREA_TITLE'].replace(oldlist2010,MSA2010BeforeDash)\n",
    "BLS_M2010['AREA_TITLE'].value_counts()"
   ]
  },
  {
   "cell_type": "markdown",
   "metadata": {},
   "source": [
    "Combine *BLS_M2020_11MSA* and *BLS_2010*: "
   ]
  },
  {
   "cell_type": "code",
   "execution_count": 17,
   "metadata": {},
   "outputs": [],
   "source": [
    "BLS_df=pd.concat([BLS_M2020_11MSA,BLS_M2010])"
   ]
  },
  {
   "cell_type": "markdown",
   "metadata": {},
   "source": [
    "The relevant columns are <u>AREA_TITLE</u>, <u>prim_state</u>, <u>OCC_TITLE</u>, <u>O_GROUP</u>, <u>TOT_EMP</u>, <u>JOBS_1000</u>, <u>LOC_QUOTIENT</u>, <u>A_MEAN</u>, <u>A_MEDIAN</u> and  <u>H_MEDIAN</u>. <br> We will drop the rest and save the output to a new dataframe:"
   ]
  },
  {
   "cell_type": "code",
   "execution_count": 18,
   "metadata": {
    "scrolled": true
   },
   "outputs": [],
   "source": [
    "BLS_df_2 = BLS_df[['Year','AREA_TITLE', 'PRIM_STATE','OCC_TITLE', 'O_GROUP','TOT_EMP','JOBS_1000',\n",
    "                       'LOC_QUOTIENT','A_MEAN','A_MEDIAN','H_MEDIAN']]"
   ]
  },
  {
   "cell_type": "markdown",
   "metadata": {},
   "source": [
    "Only keep rows where <u>O_GROUP</u> is \"major\", to retrieve occupation types at the broadest level:"
   ]
  },
  {
   "cell_type": "code",
   "execution_count": 19,
   "metadata": {},
   "outputs": [],
   "source": [
    "BLS_df_3 = BLS_df_2[BLS_df_2['O_GROUP']==\"major\"]"
   ]
  },
  {
   "cell_type": "markdown",
   "metadata": {},
   "source": [
    "Only keep rows where <u>OCC_TITLE</u> is not \"All Occupations\":"
   ]
  },
  {
   "cell_type": "code",
   "execution_count": 20,
   "metadata": {},
   "outputs": [],
   "source": [
    "BLS_df_4 = BLS_df_3[BLS_df_3['OCC_TITLE']!=\"All Occupations\"]"
   ]
  },
  {
   "cell_type": "markdown",
   "metadata": {},
   "source": [
    "<u>TOT_EMP</u>, <u>JOBS_1000</u>, <u>LOC_QUOTIENT</u>, <u>A_MEAN</u>, <u>A_MEDIAN</u>, <u>H_MEDIAN</u> need to be converted to float. We will start by dropping rows where values for these columns are not numerical:"
   ]
  },
  {
   "cell_type": "code",
   "execution_count": 21,
   "metadata": {},
   "outputs": [],
   "source": [
    "Check_num_list = ['TOT_EMP','JOBS_1000','LOC_QUOTIENT','A_MEAN','A_MEDIAN','H_MEDIAN']\n",
    "for i in Check_num_list:\n",
    "    BLS_df_4 = BLS_df_4[pd.to_numeric(BLS_df_4[i],errors='coerce').notna()]\n",
    "    BLS_df_4[i]=BLS_df_4[i].astype('float')"
   ]
  },
  {
   "cell_type": "markdown",
   "metadata": {},
   "source": [
    "Sort combined data *BLS_df_4* by MSA (<u>AREA_TITLE</u>) and Job Type (<u>OCC_TITLE</u>)"
   ]
  },
  {
   "cell_type": "code",
   "execution_count": 22,
   "metadata": {
    "scrolled": false
   },
   "outputs": [],
   "source": [
    "BLS_df_4.sort_values([\"AREA_TITLE\",\"OCC_TITLE\"], axis=0, inplace=True)"
   ]
  },
  {
   "cell_type": "markdown",
   "metadata": {},
   "source": [
    "Subset *BLS_df_4* to only occupations that require office space:"
   ]
  },
  {
   "cell_type": "code",
   "execution_count": 23,
   "metadata": {
    "scrolled": true
   },
   "outputs": [],
   "source": [
    "OCC_OfficeOnly = BLS_df_4['OCC_TITLE'].unique().tolist()"
   ]
  },
  {
   "cell_type": "markdown",
   "metadata": {},
   "source": [
    "Remove \"Farming, Fishing, and Forestry Occupations\" as it is not an occupation that requires office space:"
   ]
  },
  {
   "cell_type": "code",
   "execution_count": 24,
   "metadata": {},
   "outputs": [],
   "source": [
    "OCC_OfficeOnly.remove('Farming, Fishing, and Forestry Occupations')"
   ]
  },
  {
   "cell_type": "code",
   "execution_count": 25,
   "metadata": {},
   "outputs": [],
   "source": [
    "BLS_df_4= BLS_df_4[BLS_df_4['OCC_TITLE'].isin(OCC_OfficeOnly)].reset_index(drop=True)"
   ]
  },
  {
   "cell_type": "code",
   "execution_count": 26,
   "metadata": {
    "scrolled": true
   },
   "outputs": [
    {
     "data": {
      "text/plain": [
       "Transportation and Material Moving Occupations                22\n",
       "Personal Care and Service Occupations                         22\n",
       "Arts, Design, Entertainment, Sports, and Media Occupations    22\n",
       "Installation, Maintenance, and Repair Occupations             22\n",
       "Construction and Extraction Occupations                       22\n",
       "Legal Occupations                                             22\n",
       "Architecture and Engineering Occupations                      22\n",
       "Production Occupations                                        22\n",
       "Community and Social Service Occupations                      22\n",
       "Healthcare Support Occupations                                22\n",
       "Food Preparation and Serving Related Occupations              22\n",
       "Healthcare Practitioners and Technical Occupations            22\n",
       "Sales and Related Occupations                                 22\n",
       "Protective Service Occupations                                22\n",
       "Building and Grounds Cleaning and Maintenance Occupations     22\n",
       "Office and Administrative Support Occupations                 22\n",
       "Computer and Mathematical Occupations                         22\n",
       "Life, Physical, and Social Science Occupations                22\n",
       "Business and Financial Operations Occupations                 22\n",
       "Management Occupations                                        21\n",
       "Educational Instruction and Library Occupations               11\n",
       "Education, Training, and Library Occupations                  11\n",
       "Name: OCC_TITLE, dtype: int64"
      ]
     },
     "execution_count": 26,
     "metadata": {},
     "output_type": "execute_result"
    }
   ],
   "source": [
    "BLS_df_4['OCC_TITLE'].value_counts()"
   ]
  },
  {
   "cell_type": "markdown",
   "metadata": {},
   "source": [
    "Examine the occupations with single numbers of entries: \"Management Occupations\", \"Education, Training, and Library Occupations\" and \"Educational Instruction and Library Occupations\":"
   ]
  },
  {
   "cell_type": "markdown",
   "metadata": {},
   "source": [
    "Since \"Education, Training, and Library Occupations\" and \"Educational Instruction and Library Occupations\" are the same category with different naming conventions between 2010 and 2020, We will unify the two as \"Education, Training, and Library Occupations\". </br>"
   ]
  },
  {
   "cell_type": "code",
   "execution_count": 27,
   "metadata": {},
   "outputs": [],
   "source": [
    "BLS_df_4.replace('Educational Instruction and Library Occupations', 'Education, Training, and Library Occupations', inplace=True)"
   ]
  },
  {
   "cell_type": "markdown",
   "metadata": {},
   "source": [
    "\"Management Occupations\" is missing 2020 data for Seattle, so we will drop index 406:"
   ]
  },
  {
   "cell_type": "code",
   "execution_count": 28,
   "metadata": {},
   "outputs": [
    {
     "data": {
      "text/html": [
       "<div>\n",
       "<style scoped>\n",
       "    .dataframe tbody tr th:only-of-type {\n",
       "        vertical-align: middle;\n",
       "    }\n",
       "\n",
       "    .dataframe tbody tr th {\n",
       "        vertical-align: top;\n",
       "    }\n",
       "\n",
       "    .dataframe thead th {\n",
       "        text-align: right;\n",
       "    }\n",
       "</style>\n",
       "<table border=\"1\" class=\"dataframe\">\n",
       "  <thead>\n",
       "    <tr style=\"text-align: right;\">\n",
       "      <th></th>\n",
       "      <th>Year</th>\n",
       "      <th>AREA_TITLE</th>\n",
       "      <th>PRIM_STATE</th>\n",
       "      <th>OCC_TITLE</th>\n",
       "      <th>O_GROUP</th>\n",
       "      <th>TOT_EMP</th>\n",
       "      <th>JOBS_1000</th>\n",
       "      <th>LOC_QUOTIENT</th>\n",
       "      <th>A_MEAN</th>\n",
       "      <th>A_MEDIAN</th>\n",
       "      <th>H_MEDIAN</th>\n",
       "    </tr>\n",
       "  </thead>\n",
       "  <tbody>\n",
       "    <tr>\n",
       "      <th>28</th>\n",
       "      <td>2020</td>\n",
       "      <td>Boston</td>\n",
       "      <td>MA</td>\n",
       "      <td>Management Occupations</td>\n",
       "      <td>major</td>\n",
       "      <td>257210.0</td>\n",
       "      <td>98.860</td>\n",
       "      <td>1.730</td>\n",
       "      <td>147680.0</td>\n",
       "      <td>130600.0</td>\n",
       "      <td>62.79</td>\n",
       "    </tr>\n",
       "    <tr>\n",
       "      <th>29</th>\n",
       "      <td>2010</td>\n",
       "      <td>Boston</td>\n",
       "      <td>MA</td>\n",
       "      <td>Management Occupations</td>\n",
       "      <td>major</td>\n",
       "      <td>153300.0</td>\n",
       "      <td>63.512</td>\n",
       "      <td>1.340</td>\n",
       "      <td>125390.0</td>\n",
       "      <td>111000.0</td>\n",
       "      <td>53.37</td>\n",
       "    </tr>\n",
       "    <tr>\n",
       "      <th>70</th>\n",
       "      <td>2020</td>\n",
       "      <td>Chicago</td>\n",
       "      <td>IL</td>\n",
       "      <td>Management Occupations</td>\n",
       "      <td>major</td>\n",
       "      <td>339400.0</td>\n",
       "      <td>77.807</td>\n",
       "      <td>1.360</td>\n",
       "      <td>131810.0</td>\n",
       "      <td>115400.0</td>\n",
       "      <td>55.48</td>\n",
       "    </tr>\n",
       "    <tr>\n",
       "      <th>71</th>\n",
       "      <td>2010</td>\n",
       "      <td>Chicago</td>\n",
       "      <td>IL</td>\n",
       "      <td>Management Occupations</td>\n",
       "      <td>major</td>\n",
       "      <td>232210.0</td>\n",
       "      <td>55.688</td>\n",
       "      <td>1.175</td>\n",
       "      <td>106390.0</td>\n",
       "      <td>92400.0</td>\n",
       "      <td>44.42</td>\n",
       "    </tr>\n",
       "    <tr>\n",
       "      <th>112</th>\n",
       "      <td>2020</td>\n",
       "      <td>Dallas</td>\n",
       "      <td>TX</td>\n",
       "      <td>Management Occupations</td>\n",
       "      <td>major</td>\n",
       "      <td>212310.0</td>\n",
       "      <td>59.164</td>\n",
       "      <td>1.040</td>\n",
       "      <td>128390.0</td>\n",
       "      <td>114010.0</td>\n",
       "      <td>54.81</td>\n",
       "    </tr>\n",
       "    <tr>\n",
       "      <th>113</th>\n",
       "      <td>2010</td>\n",
       "      <td>Dallas</td>\n",
       "      <td>TX</td>\n",
       "      <td>Management Occupations</td>\n",
       "      <td>major</td>\n",
       "      <td>143470.0</td>\n",
       "      <td>50.651</td>\n",
       "      <td>1.069</td>\n",
       "      <td>108750.0</td>\n",
       "      <td>94630.0</td>\n",
       "      <td>45.49</td>\n",
       "    </tr>\n",
       "    <tr>\n",
       "      <th>154</th>\n",
       "      <td>2020</td>\n",
       "      <td>Detroit</td>\n",
       "      <td>MI</td>\n",
       "      <td>Management Occupations</td>\n",
       "      <td>major</td>\n",
       "      <td>98100.0</td>\n",
       "      <td>55.123</td>\n",
       "      <td>0.960</td>\n",
       "      <td>128210.0</td>\n",
       "      <td>116250.0</td>\n",
       "      <td>55.89</td>\n",
       "    </tr>\n",
       "    <tr>\n",
       "      <th>155</th>\n",
       "      <td>2010</td>\n",
       "      <td>Detroit</td>\n",
       "      <td>MI</td>\n",
       "      <td>Management Occupations</td>\n",
       "      <td>major</td>\n",
       "      <td>76840.0</td>\n",
       "      <td>45.552</td>\n",
       "      <td>0.961</td>\n",
       "      <td>108520.0</td>\n",
       "      <td>96810.0</td>\n",
       "      <td>46.54</td>\n",
       "    </tr>\n",
       "    <tr>\n",
       "      <th>196</th>\n",
       "      <td>2020</td>\n",
       "      <td>Los Angeles</td>\n",
       "      <td>CA</td>\n",
       "      <td>Management Occupations</td>\n",
       "      <td>major</td>\n",
       "      <td>369510.0</td>\n",
       "      <td>63.463</td>\n",
       "      <td>1.110</td>\n",
       "      <td>140130.0</td>\n",
       "      <td>125020.0</td>\n",
       "      <td>60.11</td>\n",
       "    </tr>\n",
       "    <tr>\n",
       "      <th>197</th>\n",
       "      <td>2010</td>\n",
       "      <td>Los Angeles</td>\n",
       "      <td>CA</td>\n",
       "      <td>Management Occupations</td>\n",
       "      <td>major</td>\n",
       "      <td>292740.0</td>\n",
       "      <td>56.384</td>\n",
       "      <td>1.190</td>\n",
       "      <td>121360.0</td>\n",
       "      <td>106990.0</td>\n",
       "      <td>51.44</td>\n",
       "    </tr>\n",
       "    <tr>\n",
       "      <th>238</th>\n",
       "      <td>2020</td>\n",
       "      <td>Miami</td>\n",
       "      <td>FL</td>\n",
       "      <td>Management Occupations</td>\n",
       "      <td>major</td>\n",
       "      <td>149400.0</td>\n",
       "      <td>59.571</td>\n",
       "      <td>1.040</td>\n",
       "      <td>119110.0</td>\n",
       "      <td>99570.0</td>\n",
       "      <td>47.87</td>\n",
       "    </tr>\n",
       "    <tr>\n",
       "      <th>239</th>\n",
       "      <td>2010</td>\n",
       "      <td>Miami</td>\n",
       "      <td>FL</td>\n",
       "      <td>Management Occupations</td>\n",
       "      <td>major</td>\n",
       "      <td>70600.0</td>\n",
       "      <td>32.939</td>\n",
       "      <td>0.695</td>\n",
       "      <td>112200.0</td>\n",
       "      <td>96790.0</td>\n",
       "      <td>46.54</td>\n",
       "    </tr>\n",
       "    <tr>\n",
       "      <th>280</th>\n",
       "      <td>2020</td>\n",
       "      <td>New York</td>\n",
       "      <td>NY</td>\n",
       "      <td>Management Occupations</td>\n",
       "      <td>major</td>\n",
       "      <td>526780.0</td>\n",
       "      <td>59.629</td>\n",
       "      <td>1.040</td>\n",
       "      <td>172760.0</td>\n",
       "      <td>156280.0</td>\n",
       "      <td>75.13</td>\n",
       "    </tr>\n",
       "    <tr>\n",
       "      <th>281</th>\n",
       "      <td>2010</td>\n",
       "      <td>New York</td>\n",
       "      <td>NY</td>\n",
       "      <td>Management Occupations</td>\n",
       "      <td>major</td>\n",
       "      <td>423700.0</td>\n",
       "      <td>52.296</td>\n",
       "      <td>1.104</td>\n",
       "      <td>139070.0</td>\n",
       "      <td>122860.0</td>\n",
       "      <td>59.07</td>\n",
       "    </tr>\n",
       "    <tr>\n",
       "      <th>322</th>\n",
       "      <td>2020</td>\n",
       "      <td>Philadelphia</td>\n",
       "      <td>PA</td>\n",
       "      <td>Management Occupations</td>\n",
       "      <td>major</td>\n",
       "      <td>148100.0</td>\n",
       "      <td>54.919</td>\n",
       "      <td>0.960</td>\n",
       "      <td>144230.0</td>\n",
       "      <td>129250.0</td>\n",
       "      <td>62.14</td>\n",
       "    </tr>\n",
       "    <tr>\n",
       "      <th>323</th>\n",
       "      <td>2010</td>\n",
       "      <td>Philadelphia</td>\n",
       "      <td>PA</td>\n",
       "      <td>Management Occupations</td>\n",
       "      <td>major</td>\n",
       "      <td>113980.0</td>\n",
       "      <td>43.513</td>\n",
       "      <td>0.918</td>\n",
       "      <td>119970.0</td>\n",
       "      <td>105160.0</td>\n",
       "      <td>50.56</td>\n",
       "    </tr>\n",
       "    <tr>\n",
       "      <th>364</th>\n",
       "      <td>2020</td>\n",
       "      <td>San Francisco</td>\n",
       "      <td>CA</td>\n",
       "      <td>Management Occupations</td>\n",
       "      <td>major</td>\n",
       "      <td>209440.0</td>\n",
       "      <td>89.858</td>\n",
       "      <td>1.570</td>\n",
       "      <td>167810.0</td>\n",
       "      <td>155160.0</td>\n",
       "      <td>74.60</td>\n",
       "    </tr>\n",
       "    <tr>\n",
       "      <th>365</th>\n",
       "      <td>2010</td>\n",
       "      <td>San Francisco</td>\n",
       "      <td>CA</td>\n",
       "      <td>Management Occupations</td>\n",
       "      <td>major</td>\n",
       "      <td>128130.0</td>\n",
       "      <td>67.431</td>\n",
       "      <td>1.423</td>\n",
       "      <td>131660.0</td>\n",
       "      <td>117550.0</td>\n",
       "      <td>56.52</td>\n",
       "    </tr>\n",
       "    <tr>\n",
       "      <th>406</th>\n",
       "      <td>2010</td>\n",
       "      <td>Seattle</td>\n",
       "      <td>WA</td>\n",
       "      <td>Management Occupations</td>\n",
       "      <td>major</td>\n",
       "      <td>82120.0</td>\n",
       "      <td>51.294</td>\n",
       "      <td>1.082</td>\n",
       "      <td>119320.0</td>\n",
       "      <td>108170.0</td>\n",
       "      <td>52.00</td>\n",
       "    </tr>\n",
       "    <tr>\n",
       "      <th>447</th>\n",
       "      <td>2020</td>\n",
       "      <td>Washington</td>\n",
       "      <td>DC</td>\n",
       "      <td>Management Occupations</td>\n",
       "      <td>major</td>\n",
       "      <td>254670.0</td>\n",
       "      <td>84.266</td>\n",
       "      <td>1.470</td>\n",
       "      <td>155370.0</td>\n",
       "      <td>145570.0</td>\n",
       "      <td>69.99</td>\n",
       "    </tr>\n",
       "    <tr>\n",
       "      <th>448</th>\n",
       "      <td>2010</td>\n",
       "      <td>Washington</td>\n",
       "      <td>DC</td>\n",
       "      <td>Management Occupations</td>\n",
       "      <td>major</td>\n",
       "      <td>228860.0</td>\n",
       "      <td>80.565</td>\n",
       "      <td>1.700</td>\n",
       "      <td>125400.0</td>\n",
       "      <td>119380.0</td>\n",
       "      <td>57.39</td>\n",
       "    </tr>\n",
       "  </tbody>\n",
       "</table>\n",
       "</div>"
      ],
      "text/plain": [
       "     Year     AREA_TITLE PRIM_STATE               OCC_TITLE O_GROUP   TOT_EMP  \\\n",
       "28   2020         Boston         MA  Management Occupations   major  257210.0   \n",
       "29   2010         Boston         MA  Management Occupations   major  153300.0   \n",
       "70   2020        Chicago         IL  Management Occupations   major  339400.0   \n",
       "71   2010        Chicago         IL  Management Occupations   major  232210.0   \n",
       "112  2020         Dallas         TX  Management Occupations   major  212310.0   \n",
       "113  2010         Dallas         TX  Management Occupations   major  143470.0   \n",
       "154  2020        Detroit         MI  Management Occupations   major   98100.0   \n",
       "155  2010        Detroit         MI  Management Occupations   major   76840.0   \n",
       "196  2020    Los Angeles         CA  Management Occupations   major  369510.0   \n",
       "197  2010    Los Angeles         CA  Management Occupations   major  292740.0   \n",
       "238  2020          Miami         FL  Management Occupations   major  149400.0   \n",
       "239  2010          Miami         FL  Management Occupations   major   70600.0   \n",
       "280  2020       New York         NY  Management Occupations   major  526780.0   \n",
       "281  2010       New York         NY  Management Occupations   major  423700.0   \n",
       "322  2020   Philadelphia         PA  Management Occupations   major  148100.0   \n",
       "323  2010   Philadelphia         PA  Management Occupations   major  113980.0   \n",
       "364  2020  San Francisco         CA  Management Occupations   major  209440.0   \n",
       "365  2010  San Francisco         CA  Management Occupations   major  128130.0   \n",
       "406  2010        Seattle         WA  Management Occupations   major   82120.0   \n",
       "447  2020     Washington         DC  Management Occupations   major  254670.0   \n",
       "448  2010     Washington         DC  Management Occupations   major  228860.0   \n",
       "\n",
       "     JOBS_1000  LOC_QUOTIENT    A_MEAN  A_MEDIAN  H_MEDIAN  \n",
       "28      98.860         1.730  147680.0  130600.0     62.79  \n",
       "29      63.512         1.340  125390.0  111000.0     53.37  \n",
       "70      77.807         1.360  131810.0  115400.0     55.48  \n",
       "71      55.688         1.175  106390.0   92400.0     44.42  \n",
       "112     59.164         1.040  128390.0  114010.0     54.81  \n",
       "113     50.651         1.069  108750.0   94630.0     45.49  \n",
       "154     55.123         0.960  128210.0  116250.0     55.89  \n",
       "155     45.552         0.961  108520.0   96810.0     46.54  \n",
       "196     63.463         1.110  140130.0  125020.0     60.11  \n",
       "197     56.384         1.190  121360.0  106990.0     51.44  \n",
       "238     59.571         1.040  119110.0   99570.0     47.87  \n",
       "239     32.939         0.695  112200.0   96790.0     46.54  \n",
       "280     59.629         1.040  172760.0  156280.0     75.13  \n",
       "281     52.296         1.104  139070.0  122860.0     59.07  \n",
       "322     54.919         0.960  144230.0  129250.0     62.14  \n",
       "323     43.513         0.918  119970.0  105160.0     50.56  \n",
       "364     89.858         1.570  167810.0  155160.0     74.60  \n",
       "365     67.431         1.423  131660.0  117550.0     56.52  \n",
       "406     51.294         1.082  119320.0  108170.0     52.00  \n",
       "447     84.266         1.470  155370.0  145570.0     69.99  \n",
       "448     80.565         1.700  125400.0  119380.0     57.39  "
      ]
     },
     "execution_count": 28,
     "metadata": {},
     "output_type": "execute_result"
    }
   ],
   "source": [
    "BLS_df_4[BLS_df_4['OCC_TITLE']==\"Management Occupations\"]"
   ]
  },
  {
   "cell_type": "code",
   "execution_count": 29,
   "metadata": {},
   "outputs": [],
   "source": [
    "BLS_df_4.drop([406], inplace=True)"
   ]
  },
  {
   "cell_type": "code",
   "execution_count": 30,
   "metadata": {
    "scrolled": true
   },
   "outputs": [],
   "source": [
    "BLS_df_4.reset_index(drop=True, inplace=True)"
   ]
  },
  {
   "cell_type": "markdown",
   "metadata": {},
   "source": [
    "Verify no single entries (i.e. each occupation contains data from both 2010 and 2020) for each occupation:"
   ]
  },
  {
   "cell_type": "code",
   "execution_count": 31,
   "metadata": {
    "scrolled": true
   },
   "outputs": [
    {
     "data": {
      "text/plain": [
       "Transportation and Material Moving Occupations                22\n",
       "Healthcare Support Occupations                                22\n",
       "Arts, Design, Entertainment, Sports, and Media Occupations    22\n",
       "Installation, Maintenance, and Repair Occupations             22\n",
       "Construction and Extraction Occupations                       22\n",
       "Legal Occupations                                             22\n",
       "Architecture and Engineering Occupations                      22\n",
       "Education, Training, and Library Occupations                  22\n",
       "Production Occupations                                        22\n",
       "Community and Social Service Occupations                      22\n",
       "Food Preparation and Serving Related Occupations              22\n",
       "Life, Physical, and Social Science Occupations                22\n",
       "Personal Care and Service Occupations                         22\n",
       "Healthcare Practitioners and Technical Occupations            22\n",
       "Sales and Related Occupations                                 22\n",
       "Protective Service Occupations                                22\n",
       "Building and Grounds Cleaning and Maintenance Occupations     22\n",
       "Office and Administrative Support Occupations                 22\n",
       "Computer and Mathematical Occupations                         22\n",
       "Business and Financial Operations Occupations                 22\n",
       "Management Occupations                                        20\n",
       "Name: OCC_TITLE, dtype: int64"
      ]
     },
     "execution_count": 31,
     "metadata": {},
     "output_type": "execute_result"
    }
   ],
   "source": [
    "BLS_df_4.OCC_TITLE.value_counts()"
   ]
  },
  {
   "cell_type": "markdown",
   "metadata": {},
   "source": [
    "**Create a new data set, *BLS_growth_full*, for 10Y annualized growth rate of each MSA-occupation combination for <u>JOBS_1000</u>, <u>LOC_QUOTIENT</u>, <u>A_MEAN</u>, <u>A_MEDIAN</u>; as well as new column <u>Avg. Emp</u> that calculates average <u>TOT_EMP</u> between 2010 and 2020.**"
   ]
  },
  {
   "cell_type": "code",
   "execution_count": 32,
   "metadata": {},
   "outputs": [],
   "source": [
    "BLS_growth_data = []\n",
    "BLS_growth_df=pd.DataFrame()\n",
    "\n",
    "for i in range(0,len(BLS_df_4.Year),2):\n",
    "    growth_annualized_perc = ((BLS_df_4.iloc[i,5:10]/BLS_df_4.iloc[i+1,5:10])**(1/10)-1)*100\n",
    "    growth_annualized_perc_dict = dict(growth_annualized_perc)\n",
    "    BLS_growth_data.append(growth_annualized_perc_dict)\n",
    "BLS_growth_df = BLS_growth_df.append(BLS_growth_data,True)\n",
    "\n",
    "BLS_cat_data=[]\n",
    "BLS_cat_df=pd.DataFrame()\n",
    "for i in range(0,len(BLS_df_4.Year),2):\n",
    "    BLS_cat_dict = dict(BLS_df_4.iloc[i,0:5])\n",
    "    BLS_cat_data.append(BLS_cat_dict)\n",
    "BLS_cat_df = BLS_cat_df.append(BLS_cat_data,True)"
   ]
  },
  {
   "cell_type": "code",
   "execution_count": 33,
   "metadata": {},
   "outputs": [],
   "source": [
    "BLS_avgEmp_data = []\n",
    "BLS_avgEmp_df=pd.DataFrame()\n",
    "for i in range(0,len(BLS_df_4.Year),2):\n",
    "    BLS_avgEmp=(BLS_df_4.loc[i,'TOT_EMP']+BLS_df_4.loc[i+1,'TOT_EMP'])/2\n",
    "    BLS_avgEmp_data.append(BLS_avgEmp)\n",
    "    BLS_avgEmp_series = pd.Series(BLS_avgEmp_data)"
   ]
  },
  {
   "cell_type": "code",
   "execution_count": 34,
   "metadata": {},
   "outputs": [
    {
     "data": {
      "text/plain": [
       "0       64050.0\n",
       "1       42135.0\n",
       "2       73615.0\n",
       "3      174170.0\n",
       "4       51495.0\n",
       "         ...   \n",
       "225     64255.0\n",
       "226     53390.0\n",
       "227     81820.0\n",
       "228    239975.0\n",
       "229    140550.0\n",
       "Name: Avg. Emp, Length: 230, dtype: float64"
      ]
     },
     "execution_count": 34,
     "metadata": {},
     "output_type": "execute_result"
    }
   ],
   "source": [
    "BLS_avgEmp_series.rename(\"Avg. Emp\",inplace=True)"
   ]
  },
  {
   "cell_type": "code",
   "execution_count": 35,
   "metadata": {},
   "outputs": [],
   "source": [
    "BLS_growth = pd.concat([BLS_cat_df, BLS_avgEmp_series, BLS_growth_df], axis=1)"
   ]
  },
  {
   "cell_type": "code",
   "execution_count": 36,
   "metadata": {
    "scrolled": true
   },
   "outputs": [],
   "source": [
    "BLS_growth.drop(['Year'], axis=1, inplace=True)"
   ]
  },
  {
   "cell_type": "markdown",
   "metadata": {},
   "source": [
    "**Add another column <u>Avg. EMP_MSA</u> that calculates total average employment of all occupations of a given MSA, then <u>Prop. of Total Occ.</u> that calculates the proportion (in decimals) of a specific occupation's average TOT_EMP in a given MSA. This will be the adjustment factor later used to disect NCREIF (real estate) data to the granularity of MSA-Occupation.**"
   ]
  },
  {
   "cell_type": "code",
   "execution_count": 37,
   "metadata": {},
   "outputs": [],
   "source": [
    "BLS_growth['Avg.EMP_MSA'] = BLS_growth['Avg. Emp'].groupby(BLS_growth['AREA_TITLE']).transform('sum')"
   ]
  },
  {
   "cell_type": "code",
   "execution_count": 38,
   "metadata": {},
   "outputs": [],
   "source": [
    "BLS_growth['Prop. of Total Occ.']=BLS_growth['Avg. Emp']/BLS_growth['Avg.EMP_MSA']"
   ]
  },
  {
   "cell_type": "code",
   "execution_count": 39,
   "metadata": {},
   "outputs": [],
   "source": [
    "BLS_growth.drop(['PRIM_STATE','O_GROUP'], axis=1, inplace=True)"
   ]
  },
  {
   "cell_type": "code",
   "execution_count": 40,
   "metadata": {},
   "outputs": [],
   "source": [
    "BLS_growth.rename(columns={'AREA_TITLE':'MSA'},inplace=True)\n",
    "BLS_growth.MSA.replace('Washington','Washington D.C.', inplace=True)"
   ]
  },
  {
   "cell_type": "code",
   "execution_count": 41,
   "metadata": {},
   "outputs": [],
   "source": [
    "BLS_growth_cols=['MSA','OCC_TITLE','TOT_EMP','JOBS_1000','LOC_QUOTIENT','A_MEAN','A_MEDIAN']"
   ]
  },
  {
   "cell_type": "code",
   "execution_count": 42,
   "metadata": {
    "scrolled": true
   },
   "outputs": [
    {
     "data": {
      "text/html": [
       "<div>\n",
       "<style scoped>\n",
       "    .dataframe tbody tr th:only-of-type {\n",
       "        vertical-align: middle;\n",
       "    }\n",
       "\n",
       "    .dataframe tbody tr th {\n",
       "        vertical-align: top;\n",
       "    }\n",
       "\n",
       "    .dataframe thead th {\n",
       "        text-align: right;\n",
       "    }\n",
       "</style>\n",
       "<table border=\"1\" class=\"dataframe\">\n",
       "  <thead>\n",
       "    <tr style=\"text-align: right;\">\n",
       "      <th></th>\n",
       "      <th>MSA</th>\n",
       "      <th>OCC_TITLE</th>\n",
       "      <th>TOT_EMP</th>\n",
       "      <th>JOBS_1000</th>\n",
       "      <th>LOC_QUOTIENT</th>\n",
       "      <th>A_MEAN</th>\n",
       "      <th>A_MEDIAN</th>\n",
       "    </tr>\n",
       "  </thead>\n",
       "  <tbody>\n",
       "    <tr>\n",
       "      <th>0</th>\n",
       "      <td>Boston</td>\n",
       "      <td>Architecture and Engineering Occupations</td>\n",
       "      <td>0.143743</td>\n",
       "      <td>-0.604530</td>\n",
       "      <td>-0.579625</td>\n",
       "      <td>1.947526</td>\n",
       "      <td>1.867002</td>\n",
       "    </tr>\n",
       "    <tr>\n",
       "      <th>1</th>\n",
       "      <td>Boston</td>\n",
       "      <td>Arts, Design, Entertainment, Sports, and Media...</td>\n",
       "      <td>-1.559705</td>\n",
       "      <td>-2.293704</td>\n",
       "      <td>-2.164713</td>\n",
       "      <td>1.963641</td>\n",
       "      <td>1.621465</td>\n",
       "    </tr>\n",
       "    <tr>\n",
       "      <th>2</th>\n",
       "      <td>Boston</td>\n",
       "      <td>Building and Grounds Cleaning and Maintenance ...</td>\n",
       "      <td>0.001358</td>\n",
       "      <td>-0.745980</td>\n",
       "      <td>0.339591</td>\n",
       "      <td>2.543904</td>\n",
       "      <td>2.351277</td>\n",
       "    </tr>\n",
       "    <tr>\n",
       "      <th>3</th>\n",
       "      <td>Boston</td>\n",
       "      <td>Business and Financial Operations Occupations</td>\n",
       "      <td>2.903954</td>\n",
       "      <td>2.134679</td>\n",
       "      <td>-0.171598</td>\n",
       "      <td>1.715761</td>\n",
       "      <td>1.702554</td>\n",
       "    </tr>\n",
       "    <tr>\n",
       "      <th>4</th>\n",
       "      <td>Boston</td>\n",
       "      <td>Community and Social Service Occupations</td>\n",
       "      <td>0.621600</td>\n",
       "      <td>-0.129904</td>\n",
       "      <td>-0.841587</td>\n",
       "      <td>2.084838</td>\n",
       "      <td>1.729352</td>\n",
       "    </tr>\n",
       "    <tr>\n",
       "      <th>...</th>\n",
       "      <td>...</td>\n",
       "      <td>...</td>\n",
       "      <td>...</td>\n",
       "      <td>...</td>\n",
       "      <td>...</td>\n",
       "      <td>...</td>\n",
       "      <td>...</td>\n",
       "    </tr>\n",
       "    <tr>\n",
       "      <th>225</th>\n",
       "      <td>Washington D.C.</td>\n",
       "      <td>Personal Care and Service Occupations</td>\n",
       "      <td>-0.358898</td>\n",
       "      <td>-0.974501</td>\n",
       "      <td>2.375630</td>\n",
       "      <td>2.183293</td>\n",
       "      <td>2.624710</td>\n",
       "    </tr>\n",
       "    <tr>\n",
       "      <th>226</th>\n",
       "      <td>Washington D.C.</td>\n",
       "      <td>Production Occupations</td>\n",
       "      <td>-0.921654</td>\n",
       "      <td>-1.531523</td>\n",
       "      <td>-0.786324</td>\n",
       "      <td>2.019740</td>\n",
       "      <td>1.669286</td>\n",
       "    </tr>\n",
       "    <tr>\n",
       "      <th>227</th>\n",
       "      <td>Washington D.C.</td>\n",
       "      <td>Protective Service Occupations</td>\n",
       "      <td>0.728947</td>\n",
       "      <td>0.106845</td>\n",
       "      <td>0.468759</td>\n",
       "      <td>1.988749</td>\n",
       "      <td>2.194050</td>\n",
       "    </tr>\n",
       "    <tr>\n",
       "      <th>228</th>\n",
       "      <td>Washington D.C.</td>\n",
       "      <td>Sales and Related Occupations</td>\n",
       "      <td>0.123841</td>\n",
       "      <td>-0.494207</td>\n",
       "      <td>0.683857</td>\n",
       "      <td>2.403074</td>\n",
       "      <td>2.078897</td>\n",
       "    </tr>\n",
       "    <tr>\n",
       "      <th>229</th>\n",
       "      <td>Washington D.C.</td>\n",
       "      <td>Transportation and Material Moving Occupations</td>\n",
       "      <td>3.493938</td>\n",
       "      <td>2.855140</td>\n",
       "      <td>0.146332</td>\n",
       "      <td>1.924883</td>\n",
       "      <td>1.392629</td>\n",
       "    </tr>\n",
       "  </tbody>\n",
       "</table>\n",
       "<p>230 rows × 7 columns</p>\n",
       "</div>"
      ],
      "text/plain": [
       "                 MSA                                          OCC_TITLE  \\\n",
       "0             Boston           Architecture and Engineering Occupations   \n",
       "1             Boston  Arts, Design, Entertainment, Sports, and Media...   \n",
       "2             Boston  Building and Grounds Cleaning and Maintenance ...   \n",
       "3             Boston      Business and Financial Operations Occupations   \n",
       "4             Boston           Community and Social Service Occupations   \n",
       "..               ...                                                ...   \n",
       "225  Washington D.C.              Personal Care and Service Occupations   \n",
       "226  Washington D.C.                             Production Occupations   \n",
       "227  Washington D.C.                     Protective Service Occupations   \n",
       "228  Washington D.C.                      Sales and Related Occupations   \n",
       "229  Washington D.C.     Transportation and Material Moving Occupations   \n",
       "\n",
       "      TOT_EMP  JOBS_1000  LOC_QUOTIENT    A_MEAN  A_MEDIAN  \n",
       "0    0.143743  -0.604530     -0.579625  1.947526  1.867002  \n",
       "1   -1.559705  -2.293704     -2.164713  1.963641  1.621465  \n",
       "2    0.001358  -0.745980      0.339591  2.543904  2.351277  \n",
       "3    2.903954   2.134679     -0.171598  1.715761  1.702554  \n",
       "4    0.621600  -0.129904     -0.841587  2.084838  1.729352  \n",
       "..        ...        ...           ...       ...       ...  \n",
       "225 -0.358898  -0.974501      2.375630  2.183293  2.624710  \n",
       "226 -0.921654  -1.531523     -0.786324  2.019740  1.669286  \n",
       "227  0.728947   0.106845      0.468759  1.988749  2.194050  \n",
       "228  0.123841  -0.494207      0.683857  2.403074  2.078897  \n",
       "229  3.493938   2.855140      0.146332  1.924883  1.392629  \n",
       "\n",
       "[230 rows x 7 columns]"
      ]
     },
     "execution_count": 42,
     "metadata": {},
     "output_type": "execute_result"
    }
   ],
   "source": [
    "BLS_growth[BLS_growth_cols]"
   ]
  },
  {
   "cell_type": "markdown",
   "metadata": {},
   "source": [
    "### Output Variables: National Council of Real Estate Investment Fiduciaries (NCREIF) Property Index Data\n",
    "---\n",
    "#### Reading in Raw Data\n",
    "Create a list of file names to import: "
   ]
  },
  {
   "cell_type": "code",
   "execution_count": 43,
   "metadata": {
    "scrolled": true
   },
   "outputs": [],
   "source": [
    "path = '/Users/chenmouse/Desktop/GA-Folder/JudyChenGA0316/JC0316/GA Final Project/NCREIF'\n",
    "files = os.listdir(path)\n",
    "files_xlsx = [f for f in files if f[-4:] == 'xlsx']\n",
    "path_xlsx=[\"./NCREIF/\"+ f1 for f1 in files_xlsx]"
   ]
  },
  {
   "cell_type": "markdown",
   "metadata": {},
   "source": [
    "Loop through files list to compile a dataframe:"
   ]
  },
  {
   "cell_type": "code",
   "execution_count": 44,
   "metadata": {},
   "outputs": [],
   "source": [
    "RE_df = pd.DataFrame()\n",
    "for p in path_xlsx:\n",
    "    RE_data=pd.read_excel(p)\n",
    "    RE_df=RE_df.append(RE_data)"
   ]
  },
  {
   "cell_type": "markdown",
   "metadata": {},
   "source": [
    "**Subsetting the  data:**\n",
    "    \n",
    "The relevant columns are <u>IndexName</u>, <u>Dimension2</u>, <u>PeriodDate</u>, <u>Variable</u>, <u>Frequency</u>, <u>Transformation</u>, <u>Value</u>, <u>Transformation</u>,<u>MktValue</u>,<u>MktCount</u>. The code below drops the rest:"
   ]
  },
  {
   "cell_type": "code",
   "execution_count": 45,
   "metadata": {
    "scrolled": true
   },
   "outputs": [],
   "source": [
    "RE_df.drop(['IndexCode', 'Universe','Dimension1','Dimension3','Weight'],axis=1, inplace=True)"
   ]
  },
  {
   "cell_type": "markdown",
   "metadata": {},
   "source": [
    "Rename the remaining columns:"
   ]
  },
  {
   "cell_type": "code",
   "execution_count": 46,
   "metadata": {
    "scrolled": true
   },
   "outputs": [],
   "source": [
    "RE_df.rename(columns={'IndexName':'MSA','Dimension2':'Office Type','PeriodDate':'Valuation Date',\n",
    "                      'Frequency':'Horizon (Years)','Variable':'Return Type','Value':'Return',\n",
    "                      'MktValue':'Market Value','MktCount':'Property Count'}, inplace=True)"
   ]
  },
  {
   "cell_type": "markdown",
   "metadata": {},
   "source": [
    "Since <u>Office Type</u> provides the type of office already, we will change <u>MSA</u> to only include the name of the MSA, by deleting \"CBD Off\", \"Suburban Off\" and \"Office\" from <u>MSA</u>."
   ]
  },
  {
   "cell_type": "code",
   "execution_count": 47,
   "metadata": {},
   "outputs": [],
   "source": [
    "RE_df[\"MSA\"] = RE_df[\"MSA\"].apply(lambda x: x.replace(' CBD Off',''))\n",
    "RE_df[\"MSA\"] = RE_df[\"MSA\"].apply(lambda x: x.replace(' Suburban Off',''))\n",
    "RE_df[\"MSA\"] = RE_df[\"MSA\"].apply(lambda x: x.replace(' Office',''))"
   ]
  },
  {
   "cell_type": "markdown",
   "metadata": {},
   "source": [
    "There seems to be duplicate rows for \"United States\", we will investigate this if there are still duplicates after further subsetting the data."
   ]
  },
  {
   "cell_type": "markdown",
   "metadata": {},
   "source": [
    "Subset the dataset to have <u>Valuation Date</u> of 3/31/2021, <u>Horizon (Years)</u> of 10, and \"Mean\" for <u>Transformation</u>. New dataset is RE_df2."
   ]
  },
  {
   "cell_type": "code",
   "execution_count": 48,
   "metadata": {},
   "outputs": [],
   "source": [
    "mask = (RE_df['Valuation Date']=='03/31/2021') & (RE_df['Horizon (Years)']==10)& (RE_df['Transformation']=='Mean')"
   ]
  },
  {
   "cell_type": "code",
   "execution_count": 49,
   "metadata": {},
   "outputs": [],
   "source": [
    "RE_df2 = RE_df[mask]"
   ]
  },
  {
   "cell_type": "markdown",
   "metadata": {},
   "source": [
    "Verify irrelevant information are excluded from **RE_df2**"
   ]
  },
  {
   "cell_type": "code",
   "execution_count": 50,
   "metadata": {
    "scrolled": false
   },
   "outputs": [
    {
     "data": {
      "text/html": [
       "<div>\n",
       "<style scoped>\n",
       "    .dataframe tbody tr th:only-of-type {\n",
       "        vertical-align: middle;\n",
       "    }\n",
       "\n",
       "    .dataframe tbody tr th {\n",
       "        vertical-align: top;\n",
       "    }\n",
       "\n",
       "    .dataframe thead th {\n",
       "        text-align: right;\n",
       "    }\n",
       "</style>\n",
       "<table border=\"1\" class=\"dataframe\">\n",
       "  <thead>\n",
       "    <tr style=\"text-align: right;\">\n",
       "      <th></th>\n",
       "      <th>Office Type</th>\n",
       "      <th>Valuation Date</th>\n",
       "      <th>Horizon (Years)</th>\n",
       "      <th>Transformation</th>\n",
       "    </tr>\n",
       "  </thead>\n",
       "  <tbody>\n",
       "    <tr>\n",
       "      <th>10</th>\n",
       "      <td>NaN</td>\n",
       "      <td>NaN</td>\n",
       "      <td>159.0</td>\n",
       "      <td>NaN</td>\n",
       "    </tr>\n",
       "    <tr>\n",
       "      <th>-</th>\n",
       "      <td>9.0</td>\n",
       "      <td>NaN</td>\n",
       "      <td>NaN</td>\n",
       "      <td>NaN</td>\n",
       "    </tr>\n",
       "    <tr>\n",
       "      <th>03/31/2021</th>\n",
       "      <td>NaN</td>\n",
       "      <td>159.0</td>\n",
       "      <td>NaN</td>\n",
       "      <td>NaN</td>\n",
       "    </tr>\n",
       "    <tr>\n",
       "      <th>Mean</th>\n",
       "      <td>NaN</td>\n",
       "      <td>NaN</td>\n",
       "      <td>NaN</td>\n",
       "      <td>159.0</td>\n",
       "    </tr>\n",
       "    <tr>\n",
       "      <th>O</th>\n",
       "      <td>63.0</td>\n",
       "      <td>NaN</td>\n",
       "      <td>NaN</td>\n",
       "      <td>NaN</td>\n",
       "    </tr>\n",
       "    <tr>\n",
       "      <th>OCBD</th>\n",
       "      <td>27.0</td>\n",
       "      <td>NaN</td>\n",
       "      <td>NaN</td>\n",
       "      <td>NaN</td>\n",
       "    </tr>\n",
       "    <tr>\n",
       "      <th>OSUB</th>\n",
       "      <td>60.0</td>\n",
       "      <td>NaN</td>\n",
       "      <td>NaN</td>\n",
       "      <td>NaN</td>\n",
       "    </tr>\n",
       "  </tbody>\n",
       "</table>\n",
       "</div>"
      ],
      "text/plain": [
       "            Office Type  Valuation Date  Horizon (Years)  Transformation\n",
       "10                  NaN             NaN            159.0             NaN\n",
       "-                   9.0             NaN              NaN             NaN\n",
       "03/31/2021          NaN           159.0              NaN             NaN\n",
       "Mean                NaN             NaN              NaN           159.0\n",
       "O                  63.0             NaN              NaN             NaN\n",
       "OCBD               27.0             NaN              NaN             NaN\n",
       "OSUB               60.0             NaN              NaN             NaN"
      ]
     },
     "execution_count": 50,
     "metadata": {},
     "output_type": "execute_result"
    }
   ],
   "source": [
    "RE_df2[['Office Type','Valuation Date','Horizon (Years)','Transformation']].apply(pd.Series.value_counts)"
   ]
  },
  {
   "cell_type": "markdown",
   "metadata": {},
   "source": [
    "Taking a closer look at the 9 rows where <u>Office Type</u> is \"-\":"
   ]
  },
  {
   "cell_type": "code",
   "execution_count": 51,
   "metadata": {
    "scrolled": true
   },
   "outputs": [
    {
     "data": {
      "text/html": [
       "<div>\n",
       "<style scoped>\n",
       "    .dataframe tbody tr th:only-of-type {\n",
       "        vertical-align: middle;\n",
       "    }\n",
       "\n",
       "    .dataframe tbody tr th {\n",
       "        vertical-align: top;\n",
       "    }\n",
       "\n",
       "    .dataframe thead th {\n",
       "        text-align: right;\n",
       "    }\n",
       "</style>\n",
       "<table border=\"1\" class=\"dataframe\">\n",
       "  <thead>\n",
       "    <tr style=\"text-align: right;\">\n",
       "      <th></th>\n",
       "      <th>MSA</th>\n",
       "      <th>Office Type</th>\n",
       "      <th>Valuation Date</th>\n",
       "      <th>Horizon (Years)</th>\n",
       "      <th>Return Type</th>\n",
       "      <th>Transformation</th>\n",
       "      <th>Return</th>\n",
       "      <th>Market Value</th>\n",
       "      <th>Property Count</th>\n",
       "    </tr>\n",
       "  </thead>\n",
       "  <tbody>\n",
       "    <tr>\n",
       "      <th>224</th>\n",
       "      <td>United States</td>\n",
       "      <td>-</td>\n",
       "      <td>03/31/2021</td>\n",
       "      <td>10</td>\n",
       "      <td>Income Return</td>\n",
       "      <td>Mean</td>\n",
       "      <td>0.050131</td>\n",
       "      <td>5.007683e+11</td>\n",
       "      <td>7591.0</td>\n",
       "    </tr>\n",
       "    <tr>\n",
       "      <th>477</th>\n",
       "      <td>United States</td>\n",
       "      <td>-</td>\n",
       "      <td>03/31/2021</td>\n",
       "      <td>10</td>\n",
       "      <td>Appr. Return</td>\n",
       "      <td>Mean</td>\n",
       "      <td>0.037671</td>\n",
       "      <td>5.007683e+11</td>\n",
       "      <td>7591.0</td>\n",
       "    </tr>\n",
       "    <tr>\n",
       "      <th>1939</th>\n",
       "      <td>United States</td>\n",
       "      <td>-</td>\n",
       "      <td>03/31/2021</td>\n",
       "      <td>10</td>\n",
       "      <td>Total Return</td>\n",
       "      <td>Mean</td>\n",
       "      <td>0.089298</td>\n",
       "      <td>5.007683e+11</td>\n",
       "      <td>7591.0</td>\n",
       "    </tr>\n",
       "    <tr>\n",
       "      <th>418</th>\n",
       "      <td>United States</td>\n",
       "      <td>-</td>\n",
       "      <td>03/31/2021</td>\n",
       "      <td>10</td>\n",
       "      <td>Appr. Return</td>\n",
       "      <td>Mean</td>\n",
       "      <td>0.037671</td>\n",
       "      <td>5.007683e+11</td>\n",
       "      <td>7591.0</td>\n",
       "    </tr>\n",
       "    <tr>\n",
       "      <th>1692</th>\n",
       "      <td>United States</td>\n",
       "      <td>-</td>\n",
       "      <td>03/31/2021</td>\n",
       "      <td>10</td>\n",
       "      <td>Total Return</td>\n",
       "      <td>Mean</td>\n",
       "      <td>0.089298</td>\n",
       "      <td>5.007683e+11</td>\n",
       "      <td>7591.0</td>\n",
       "    </tr>\n",
       "    <tr>\n",
       "      <th>476</th>\n",
       "      <td>United States</td>\n",
       "      <td>-</td>\n",
       "      <td>03/31/2021</td>\n",
       "      <td>10</td>\n",
       "      <td>Income Return</td>\n",
       "      <td>Mean</td>\n",
       "      <td>0.050131</td>\n",
       "      <td>5.007683e+11</td>\n",
       "      <td>7591.0</td>\n",
       "    </tr>\n",
       "    <tr>\n",
       "      <th>223</th>\n",
       "      <td>United States</td>\n",
       "      <td>-</td>\n",
       "      <td>03/31/2021</td>\n",
       "      <td>10</td>\n",
       "      <td>Appr. Return</td>\n",
       "      <td>Mean</td>\n",
       "      <td>0.037671</td>\n",
       "      <td>5.007683e+11</td>\n",
       "      <td>7591.0</td>\n",
       "    </tr>\n",
       "    <tr>\n",
       "      <th>889</th>\n",
       "      <td>United States</td>\n",
       "      <td>-</td>\n",
       "      <td>03/31/2021</td>\n",
       "      <td>10</td>\n",
       "      <td>Total Return</td>\n",
       "      <td>Mean</td>\n",
       "      <td>0.089298</td>\n",
       "      <td>5.007683e+11</td>\n",
       "      <td>7591.0</td>\n",
       "    </tr>\n",
       "    <tr>\n",
       "      <th>419</th>\n",
       "      <td>United States</td>\n",
       "      <td>-</td>\n",
       "      <td>03/31/2021</td>\n",
       "      <td>10</td>\n",
       "      <td>Income Return</td>\n",
       "      <td>Mean</td>\n",
       "      <td>0.050131</td>\n",
       "      <td>5.007683e+11</td>\n",
       "      <td>7591.0</td>\n",
       "    </tr>\n",
       "  </tbody>\n",
       "</table>\n",
       "</div>"
      ],
      "text/plain": [
       "                MSA Office Type Valuation Date  Horizon (Years)  \\\n",
       "224   United States           -     03/31/2021               10   \n",
       "477   United States           -     03/31/2021               10   \n",
       "1939  United States           -     03/31/2021               10   \n",
       "418   United States           -     03/31/2021               10   \n",
       "1692  United States           -     03/31/2021               10   \n",
       "476   United States           -     03/31/2021               10   \n",
       "223   United States           -     03/31/2021               10   \n",
       "889   United States           -     03/31/2021               10   \n",
       "419   United States           -     03/31/2021               10   \n",
       "\n",
       "        Return Type Transformation    Return  Market Value  Property Count  \n",
       "224   Income Return           Mean  0.050131  5.007683e+11          7591.0  \n",
       "477    Appr. Return           Mean  0.037671  5.007683e+11          7591.0  \n",
       "1939   Total Return           Mean  0.089298  5.007683e+11          7591.0  \n",
       "418    Appr. Return           Mean  0.037671  5.007683e+11          7591.0  \n",
       "1692   Total Return           Mean  0.089298  5.007683e+11          7591.0  \n",
       "476   Income Return           Mean  0.050131  5.007683e+11          7591.0  \n",
       "223    Appr. Return           Mean  0.037671  5.007683e+11          7591.0  \n",
       "889    Total Return           Mean  0.089298  5.007683e+11          7591.0  \n",
       "419   Income Return           Mean  0.050131  5.007683e+11          7591.0  "
      ]
     },
     "execution_count": 51,
     "metadata": {},
     "output_type": "execute_result"
    }
   ],
   "source": [
    "RE_df2[RE_df2['Office Type']=='-']"
   ]
  },
  {
   "cell_type": "markdown",
   "metadata": {},
   "source": [
    "Since these are mean 10-year annualized return of for the entire National Property Index, not just the office sector, we will relabel them appropriately:"
   ]
  },
  {
   "cell_type": "code",
   "execution_count": 52,
   "metadata": {},
   "outputs": [],
   "source": [
    "RE_df2['Office Type'].replace('-','N/A - All Property Types', inplace=True)"
   ]
  },
  {
   "cell_type": "markdown",
   "metadata": {},
   "source": [
    "Convert values for <u>Return</u> from decimals to percentages by creating a new column <u>Return (%)</u> "
   ]
  },
  {
   "cell_type": "code",
   "execution_count": 53,
   "metadata": {
    "scrolled": true
   },
   "outputs": [],
   "source": [
    "RE_df2['Return (%)']=RE_df2['Return']*100\n",
    "RE_df2.drop(['Return','Valuation Date','Horizon (Years)','Transformation'], axis=1, inplace=True)"
   ]
  },
  {
   "cell_type": "code",
   "execution_count": 54,
   "metadata": {
    "scrolled": true
   },
   "outputs": [],
   "source": [
    "RE_df2=RE_df2[RE_df2['MSA']!=\"United States\"]"
   ]
  },
  {
   "cell_type": "code",
   "execution_count": 55,
   "metadata": {},
   "outputs": [],
   "source": [
    "RE_df2=RE_df2.reset_index(drop=True)"
   ]
  },
  {
   "cell_type": "code",
   "execution_count": 56,
   "metadata": {},
   "outputs": [],
   "source": [
    "RE_df2['OCBD Income Return (%)'] = np.where((RE_df2['Office Type']=='OCBD')&(RE_df2['Return Type']=='Income Return'), RE_df2['Return (%)'],np.NaN)\n",
    "RE_df2['OSUB Income Return (%)'] = np.where((RE_df2['Office Type']=='OSUB')&(RE_df2['Return Type']=='Income Return'), RE_df2['Return (%)'],np.NaN)\n",
    "RE_df2['Office Income Return (%)'] = np.where((RE_df2['Office Type']=='O')&(RE_df2['Return Type']=='Income Return'), RE_df2['Return (%)'],np.NaN)\n",
    "RE_df2['OCBD Apprec Return (%)'] = np.where((RE_df2['Office Type']=='OCBD')&(RE_df2['Return Type']=='Appr. Return'), RE_df2['Return (%)'],np.NaN)\n",
    "RE_df2['OSUB Apprec Return (%)'] = np.where((RE_df2['Office Type']=='OSUB')&(RE_df2['Return Type']=='Appr. Return'), RE_df2['Return (%)'],np.NaN)\n",
    "RE_df2['Office Apprec Return (%)'] = np.where((RE_df2['Office Type']=='O')&(RE_df2['Return Type']=='Appr. Return'), RE_df2['Return (%)'],np.NaN)\n",
    "RE_df2['OCBD Total Return (%)'] = np.where((RE_df2['Office Type']=='OCBD')&(RE_df2['Return Type']=='Total Return'), RE_df2['Return (%)'],np.NaN)\n",
    "RE_df2['OSUB Total Return (%)'] = np.where((RE_df2['Office Type']=='OSUB')&(RE_df2['Return Type']=='Total Return'), RE_df2['Return (%)'],np.NaN)\n",
    "RE_df2['Office Total Return (%)']=np.where((RE_df2['Office Type']=='OSUB')&(RE_df2['Return Type']=='Total Return'), RE_df2['Return (%)'],np.NaN)"
   ]
  },
  {
   "cell_type": "code",
   "execution_count": 57,
   "metadata": {
    "scrolled": false
   },
   "outputs": [],
   "source": [
    "RE_df2 = RE_df2.groupby('MSA').mean()\n",
    "RE_df2.reset_index()\n",
    "RE_df2.drop(['Return (%)'],axis=1, inplace=True)"
   ]
  },
  {
   "cell_type": "code",
   "execution_count": 58,
   "metadata": {},
   "outputs": [],
   "source": [
    "RE_df2.reset_index(inplace=True)"
   ]
  },
  {
   "cell_type": "markdown",
   "metadata": {},
   "source": [
    "Create a new dataframe without <u>Market Value</u> and <u>Property Count</u>, as they do not provide information that will be modeled."
   ]
  },
  {
   "cell_type": "code",
   "execution_count": 60,
   "metadata": {},
   "outputs": [],
   "source": [
    "RE_df3 = RE_df2.drop(['Market Value','Property Count'],axis=1)"
   ]
  },
  {
   "cell_type": "code",
   "execution_count": 61,
   "metadata": {},
   "outputs": [],
   "source": [
    "RE_df3.replace('Washington, D.C.', 'Washington D.C.', inplace=True)"
   ]
  },
  {
   "cell_type": "markdown",
   "metadata": {},
   "source": [
    "**Break down the data from the MSA level to MSA-occupation level, by multiplying each MSA's return with the adjustment factor <u>Prop. of Total Occ</u> created in *BLS_growth*. The assumption is that each MSA's return is the sum of every occupation's contribution in the MSA.**"
   ]
  },
  {
   "cell_type": "markdown",
   "metadata": {},
   "source": [
    "Start with subsetting <u>MSA</u>, <u>OCC_TITLE</u> and <u>Prop. of Total Occ.</u> from *BLS_growth*, and append to *RE_df3*:"
   ]
  },
  {
   "cell_type": "code",
   "execution_count": 64,
   "metadata": {},
   "outputs": [],
   "source": [
    "BLS_growth_partial = BLS_growth[[\"MSA\",\"OCC_TITLE\",\"Prop. of Total Occ.\"]]"
   ]
  },
  {
   "cell_type": "code",
   "execution_count": 65,
   "metadata": {
    "scrolled": true
   },
   "outputs": [],
   "source": [
    "Combined1=BLS_growth_partial.set_index('MSA').join(RE_df3.set_index('MSA'))"
   ]
  },
  {
   "cell_type": "markdown",
   "metadata": {},
   "source": [
    "Transform columns <u>OCBD Income Return</u> to <u>Office Total Return</u> by multiplying the original values with <u>Prop. of Total Occ.</u>"
   ]
  },
  {
   "cell_type": "code",
   "execution_count": 67,
   "metadata": {},
   "outputs": [],
   "source": [
    "Combined1['OCBD Income Return (%)']=Combined1.apply(lambda x: x['OCBD Income Return (%)']*x['Prop. of Total Occ.'],axis=1)\n",
    "Combined1['OSUB Income Return (%)']=Combined1.apply(lambda x: x['OSUB Income Return (%)']*x['Prop. of Total Occ.'],axis=1)\n",
    "Combined1['Office Income Return (%)']=Combined1.apply(lambda x: x['Office Income Return (%)']*x['Prop. of Total Occ.'],axis=1)\n",
    "Combined1['OCBD Apprec Return (%)']=Combined1.apply(lambda x: x['OCBD Apprec Return (%)']*x['Prop. of Total Occ.'],axis=1)\n",
    "Combined1['OSUB Apprec Return (%)']=Combined1.apply(lambda x: x['OSUB Apprec Return (%)']*x['Prop. of Total Occ.'],axis=1)\n",
    "Combined1['Office Apprec Return (%)']=Combined1.apply(lambda x: x['Office Apprec Return (%)']*x['Prop. of Total Occ.'],axis=1)\n",
    "Combined1['OCBD Total Return (%)']=Combined1.apply(lambda x: x['OCBD Total Return (%)']*x['Prop. of Total Occ.'],axis=1)\n",
    "Combined1['OSUB Total Return (%)']=Combined1.apply(lambda x: x['OSUB Total Return (%)']*x['Prop. of Total Occ.'],axis=1)\n",
    "Combined1['Office Total Return (%)']=Combined1.apply(lambda x: x['Office Total Return (%)']*x['Prop. of Total Occ.'],axis=1)"
   ]
  },
  {
   "cell_type": "markdown",
   "metadata": {},
   "source": [
    "**Combine *Combined1* with *BLS_growth*, joining on <u>MSA</u> and <u>OCC_TITLE</u>:**"
   ]
  },
  {
   "cell_type": "code",
   "execution_count": 69,
   "metadata": {},
   "outputs": [],
   "source": [
    "Combined1.reset_index(inplace=True)"
   ]
  },
  {
   "cell_type": "code",
   "execution_count": 70,
   "metadata": {
    "scrolled": false
   },
   "outputs": [],
   "source": [
    "Combined2 = pd.concat([BLS_growth,Combined1],axis=1)"
   ]
  },
  {
   "cell_type": "code",
   "execution_count": 71,
   "metadata": {},
   "outputs": [],
   "source": [
    "Combined2 = Combined2.loc[:,~Combined2.columns.duplicated()]"
   ]
  },
  {
   "cell_type": "code",
   "execution_count": 72,
   "metadata": {},
   "outputs": [],
   "source": [
    "Combined2.drop(['Avg. Emp', 'Avg.EMP_MSA', 'Prop. of Total Occ.'], axis=1, inplace=True)"
   ]
  },
  {
   "cell_type": "markdown",
   "metadata": {},
   "source": [
    "Combine <u>MSA</u> and <u>OCC_TITLE</u> into one column: "
   ]
  },
  {
   "cell_type": "code",
   "execution_count": 74,
   "metadata": {},
   "outputs": [],
   "source": [
    "Combined2['MSA-OCC']= Combined2['MSA']+\" \"+Combined2['OCC_TITLE']"
   ]
  },
  {
   "cell_type": "code",
   "execution_count": 76,
   "metadata": {
    "scrolled": true
   },
   "outputs": [],
   "source": [
    "Combined2.drop(['MSA','OCC_TITLE'], axis=1, inplace=True)"
   ]
  },
  {
   "cell_type": "code",
   "execution_count": 77,
   "metadata": {},
   "outputs": [],
   "source": [
    "#rearrange columns:\n",
    "cols=Combined2.columns.tolist()\n",
    "cols = cols [-1:] + cols[:-1]\n",
    "Combined2=Combined2[cols]"
   ]
  },
  {
   "cell_type": "code",
   "execution_count": 78,
   "metadata": {
    "scrolled": true
   },
   "outputs": [
    {
     "data": {
      "text/html": [
       "<div>\n",
       "<style scoped>\n",
       "    .dataframe tbody tr th:only-of-type {\n",
       "        vertical-align: middle;\n",
       "    }\n",
       "\n",
       "    .dataframe tbody tr th {\n",
       "        vertical-align: top;\n",
       "    }\n",
       "\n",
       "    .dataframe thead th {\n",
       "        text-align: right;\n",
       "    }\n",
       "</style>\n",
       "<table border=\"1\" class=\"dataframe\">\n",
       "  <thead>\n",
       "    <tr style=\"text-align: right;\">\n",
       "      <th></th>\n",
       "      <th>MSA-OCC</th>\n",
       "      <th>TOT_EMP</th>\n",
       "      <th>JOBS_1000</th>\n",
       "      <th>LOC_QUOTIENT</th>\n",
       "      <th>A_MEAN</th>\n",
       "      <th>A_MEDIAN</th>\n",
       "      <th>OCBD Income Return (%)</th>\n",
       "      <th>OSUB Income Return (%)</th>\n",
       "      <th>Office Income Return (%)</th>\n",
       "      <th>OCBD Apprec Return (%)</th>\n",
       "      <th>OSUB Apprec Return (%)</th>\n",
       "      <th>Office Apprec Return (%)</th>\n",
       "      <th>OCBD Total Return (%)</th>\n",
       "      <th>OSUB Total Return (%)</th>\n",
       "      <th>Office Total Return (%)</th>\n",
       "    </tr>\n",
       "  </thead>\n",
       "  <tbody>\n",
       "    <tr>\n",
       "      <th>0</th>\n",
       "      <td>Boston Architecture and Engineering Occupations</td>\n",
       "      <td>0.143743</td>\n",
       "      <td>-0.604530</td>\n",
       "      <td>-0.579625</td>\n",
       "      <td>1.947526</td>\n",
       "      <td>1.867002</td>\n",
       "      <td>0.105327</td>\n",
       "      <td>0.133564</td>\n",
       "      <td>0.114219</td>\n",
       "      <td>0.110515</td>\n",
       "      <td>0.170826</td>\n",
       "      <td>0.127703</td>\n",
       "      <td>0.219394</td>\n",
       "      <td>0.311010</td>\n",
       "      <td>0.311010</td>\n",
       "    </tr>\n",
       "    <tr>\n",
       "      <th>1</th>\n",
       "      <td>Boston Arts, Design, Entertainment, Sports, an...</td>\n",
       "      <td>-1.559705</td>\n",
       "      <td>-2.293704</td>\n",
       "      <td>-2.164713</td>\n",
       "      <td>1.963641</td>\n",
       "      <td>1.621465</td>\n",
       "      <td>0.069289</td>\n",
       "      <td>0.087864</td>\n",
       "      <td>0.075138</td>\n",
       "      <td>0.072701</td>\n",
       "      <td>0.112377</td>\n",
       "      <td>0.084009</td>\n",
       "      <td>0.144328</td>\n",
       "      <td>0.204596</td>\n",
       "      <td>0.204596</td>\n",
       "    </tr>\n",
       "    <tr>\n",
       "      <th>2</th>\n",
       "      <td>Boston Building and Grounds Cleaning and Maint...</td>\n",
       "      <td>0.001358</td>\n",
       "      <td>-0.745980</td>\n",
       "      <td>0.339591</td>\n",
       "      <td>2.543904</td>\n",
       "      <td>2.351277</td>\n",
       "      <td>0.121056</td>\n",
       "      <td>0.153510</td>\n",
       "      <td>0.131276</td>\n",
       "      <td>0.127018</td>\n",
       "      <td>0.196337</td>\n",
       "      <td>0.146774</td>\n",
       "      <td>0.252158</td>\n",
       "      <td>0.357455</td>\n",
       "      <td>0.357455</td>\n",
       "    </tr>\n",
       "    <tr>\n",
       "      <th>3</th>\n",
       "      <td>Boston Business and Financial Operations Occup...</td>\n",
       "      <td>2.903954</td>\n",
       "      <td>2.134679</td>\n",
       "      <td>-0.171598</td>\n",
       "      <td>1.715761</td>\n",
       "      <td>1.702554</td>\n",
       "      <td>0.286413</td>\n",
       "      <td>0.363197</td>\n",
       "      <td>0.310592</td>\n",
       "      <td>0.300520</td>\n",
       "      <td>0.464524</td>\n",
       "      <td>0.347260</td>\n",
       "      <td>0.596595</td>\n",
       "      <td>0.845723</td>\n",
       "      <td>0.845723</td>\n",
       "    </tr>\n",
       "    <tr>\n",
       "      <th>4</th>\n",
       "      <td>Boston Community and Social Service Occupations</td>\n",
       "      <td>0.621600</td>\n",
       "      <td>-0.129904</td>\n",
       "      <td>-0.841587</td>\n",
       "      <td>2.084838</td>\n",
       "      <td>1.729352</td>\n",
       "      <td>0.084681</td>\n",
       "      <td>0.107383</td>\n",
       "      <td>0.091830</td>\n",
       "      <td>0.088852</td>\n",
       "      <td>0.137341</td>\n",
       "      <td>0.102671</td>\n",
       "      <td>0.176389</td>\n",
       "      <td>0.250046</td>\n",
       "      <td>0.250046</td>\n",
       "    </tr>\n",
       "    <tr>\n",
       "      <th>...</th>\n",
       "      <td>...</td>\n",
       "      <td>...</td>\n",
       "      <td>...</td>\n",
       "      <td>...</td>\n",
       "      <td>...</td>\n",
       "      <td>...</td>\n",
       "      <td>...</td>\n",
       "      <td>...</td>\n",
       "      <td>...</td>\n",
       "      <td>...</td>\n",
       "      <td>...</td>\n",
       "      <td>...</td>\n",
       "      <td>...</td>\n",
       "      <td>...</td>\n",
       "      <td>...</td>\n",
       "    </tr>\n",
       "    <tr>\n",
       "      <th>225</th>\n",
       "      <td>Washington D.C. Personal Care and Service Occu...</td>\n",
       "      <td>-0.358898</td>\n",
       "      <td>-0.974501</td>\n",
       "      <td>2.375630</td>\n",
       "      <td>2.183293</td>\n",
       "      <td>2.624710</td>\n",
       "      <td>0.099000</td>\n",
       "      <td>0.124581</td>\n",
       "      <td>0.107134</td>\n",
       "      <td>0.018369</td>\n",
       "      <td>-0.044984</td>\n",
       "      <td>-0.002033</td>\n",
       "      <td>0.118087</td>\n",
       "      <td>0.077708</td>\n",
       "      <td>0.077708</td>\n",
       "    </tr>\n",
       "    <tr>\n",
       "      <th>226</th>\n",
       "      <td>Washington D.C. Production Occupations</td>\n",
       "      <td>-0.921654</td>\n",
       "      <td>-1.531523</td>\n",
       "      <td>-0.786324</td>\n",
       "      <td>2.019740</td>\n",
       "      <td>1.669286</td>\n",
       "      <td>0.082260</td>\n",
       "      <td>0.103515</td>\n",
       "      <td>0.089019</td>\n",
       "      <td>0.015263</td>\n",
       "      <td>-0.037377</td>\n",
       "      <td>-0.001689</td>\n",
       "      <td>0.098119</td>\n",
       "      <td>0.064569</td>\n",
       "      <td>0.064569</td>\n",
       "    </tr>\n",
       "    <tr>\n",
       "      <th>227</th>\n",
       "      <td>Washington D.C. Protective Service Occupations</td>\n",
       "      <td>0.728947</td>\n",
       "      <td>0.106845</td>\n",
       "      <td>0.468759</td>\n",
       "      <td>1.988749</td>\n",
       "      <td>2.194050</td>\n",
       "      <td>0.126063</td>\n",
       "      <td>0.158637</td>\n",
       "      <td>0.136421</td>\n",
       "      <td>0.023391</td>\n",
       "      <td>-0.057281</td>\n",
       "      <td>-0.002589</td>\n",
       "      <td>0.150367</td>\n",
       "      <td>0.098951</td>\n",
       "      <td>0.098951</td>\n",
       "    </tr>\n",
       "    <tr>\n",
       "      <th>228</th>\n",
       "      <td>Washington D.C. Sales and Related Occupations</td>\n",
       "      <td>0.123841</td>\n",
       "      <td>-0.494207</td>\n",
       "      <td>0.683857</td>\n",
       "      <td>2.403074</td>\n",
       "      <td>2.078897</td>\n",
       "      <td>0.369737</td>\n",
       "      <td>0.465277</td>\n",
       "      <td>0.400117</td>\n",
       "      <td>0.068604</td>\n",
       "      <td>-0.168002</td>\n",
       "      <td>-0.007593</td>\n",
       "      <td>0.441022</td>\n",
       "      <td>0.290220</td>\n",
       "      <td>0.290220</td>\n",
       "    </tr>\n",
       "    <tr>\n",
       "      <th>229</th>\n",
       "      <td>Washington D.C. Transportation and Material Mo...</td>\n",
       "      <td>3.493938</td>\n",
       "      <td>2.855140</td>\n",
       "      <td>0.146332</td>\n",
       "      <td>1.924883</td>\n",
       "      <td>1.392629</td>\n",
       "      <td>0.216550</td>\n",
       "      <td>0.272506</td>\n",
       "      <td>0.234343</td>\n",
       "      <td>0.040180</td>\n",
       "      <td>-0.098397</td>\n",
       "      <td>-0.004447</td>\n",
       "      <td>0.258301</td>\n",
       "      <td>0.169978</td>\n",
       "      <td>0.169978</td>\n",
       "    </tr>\n",
       "  </tbody>\n",
       "</table>\n",
       "<p>230 rows × 15 columns</p>\n",
       "</div>"
      ],
      "text/plain": [
       "                                               MSA-OCC   TOT_EMP  JOBS_1000  \\\n",
       "0      Boston Architecture and Engineering Occupations  0.143743  -0.604530   \n",
       "1    Boston Arts, Design, Entertainment, Sports, an... -1.559705  -2.293704   \n",
       "2    Boston Building and Grounds Cleaning and Maint...  0.001358  -0.745980   \n",
       "3    Boston Business and Financial Operations Occup...  2.903954   2.134679   \n",
       "4      Boston Community and Social Service Occupations  0.621600  -0.129904   \n",
       "..                                                 ...       ...        ...   \n",
       "225  Washington D.C. Personal Care and Service Occu... -0.358898  -0.974501   \n",
       "226             Washington D.C. Production Occupations -0.921654  -1.531523   \n",
       "227     Washington D.C. Protective Service Occupations  0.728947   0.106845   \n",
       "228      Washington D.C. Sales and Related Occupations  0.123841  -0.494207   \n",
       "229  Washington D.C. Transportation and Material Mo...  3.493938   2.855140   \n",
       "\n",
       "     LOC_QUOTIENT    A_MEAN  A_MEDIAN  OCBD Income Return (%)  \\\n",
       "0       -0.579625  1.947526  1.867002                0.105327   \n",
       "1       -2.164713  1.963641  1.621465                0.069289   \n",
       "2        0.339591  2.543904  2.351277                0.121056   \n",
       "3       -0.171598  1.715761  1.702554                0.286413   \n",
       "4       -0.841587  2.084838  1.729352                0.084681   \n",
       "..            ...       ...       ...                     ...   \n",
       "225      2.375630  2.183293  2.624710                0.099000   \n",
       "226     -0.786324  2.019740  1.669286                0.082260   \n",
       "227      0.468759  1.988749  2.194050                0.126063   \n",
       "228      0.683857  2.403074  2.078897                0.369737   \n",
       "229      0.146332  1.924883  1.392629                0.216550   \n",
       "\n",
       "     OSUB Income Return (%)  Office Income Return (%)  OCBD Apprec Return (%)  \\\n",
       "0                  0.133564                  0.114219                0.110515   \n",
       "1                  0.087864                  0.075138                0.072701   \n",
       "2                  0.153510                  0.131276                0.127018   \n",
       "3                  0.363197                  0.310592                0.300520   \n",
       "4                  0.107383                  0.091830                0.088852   \n",
       "..                      ...                       ...                     ...   \n",
       "225                0.124581                  0.107134                0.018369   \n",
       "226                0.103515                  0.089019                0.015263   \n",
       "227                0.158637                  0.136421                0.023391   \n",
       "228                0.465277                  0.400117                0.068604   \n",
       "229                0.272506                  0.234343                0.040180   \n",
       "\n",
       "     OSUB Apprec Return (%)  Office Apprec Return (%)  OCBD Total Return (%)  \\\n",
       "0                  0.170826                  0.127703               0.219394   \n",
       "1                  0.112377                  0.084009               0.144328   \n",
       "2                  0.196337                  0.146774               0.252158   \n",
       "3                  0.464524                  0.347260               0.596595   \n",
       "4                  0.137341                  0.102671               0.176389   \n",
       "..                      ...                       ...                    ...   \n",
       "225               -0.044984                 -0.002033               0.118087   \n",
       "226               -0.037377                 -0.001689               0.098119   \n",
       "227               -0.057281                 -0.002589               0.150367   \n",
       "228               -0.168002                 -0.007593               0.441022   \n",
       "229               -0.098397                 -0.004447               0.258301   \n",
       "\n",
       "     OSUB Total Return (%)  Office Total Return (%)  \n",
       "0                 0.311010                 0.311010  \n",
       "1                 0.204596                 0.204596  \n",
       "2                 0.357455                 0.357455  \n",
       "3                 0.845723                 0.845723  \n",
       "4                 0.250046                 0.250046  \n",
       "..                     ...                      ...  \n",
       "225               0.077708                 0.077708  \n",
       "226               0.064569                 0.064569  \n",
       "227               0.098951                 0.098951  \n",
       "228               0.290220                 0.290220  \n",
       "229               0.169978                 0.169978  \n",
       "\n",
       "[230 rows x 15 columns]"
      ]
     },
     "execution_count": 78,
     "metadata": {},
     "output_type": "execute_result"
    }
   ],
   "source": [
    "Combined2"
   ]
  },
  {
   "cell_type": "markdown",
   "metadata": {},
   "source": [
    "Export preprocessed dataset:"
   ]
  },
  {
   "cell_type": "code",
   "execution_count": 79,
   "metadata": {},
   "outputs": [],
   "source": [
    "Combined2.to_excel(r'/Users/chenmouse/Desktop/GA-Folder/JudyChenGA0316/JC0316/GA Final Project/Preprocessed.xlsx', index = False)"
   ]
  },
  {
   "cell_type": "markdown",
   "metadata": {},
   "source": [
    "### Exploring Correlation and  Multicollinearity \n",
    "---\n",
    "Correlation: "
   ]
  },
  {
   "cell_type": "code",
   "execution_count": 81,
   "metadata": {
    "scrolled": false
   },
   "outputs": [
    {
     "data": {
      "text/plain": [
       "(array([ 0.5,  1.5,  2.5,  3.5,  4.5,  5.5,  6.5,  7.5,  8.5,  9.5, 10.5,\n",
       "        11.5, 12.5, 13.5]),\n",
       " [Text(0.5, 0, 'TOT_EMP'),\n",
       "  Text(1.5, 0, 'JOBS_1000'),\n",
       "  Text(2.5, 0, 'LOC_QUOTIENT'),\n",
       "  Text(3.5, 0, 'A_MEAN'),\n",
       "  Text(4.5, 0, 'A_MEDIAN'),\n",
       "  Text(5.5, 0, 'OCBD Income Return (%)'),\n",
       "  Text(6.5, 0, 'OSUB Income Return (%)'),\n",
       "  Text(7.5, 0, 'Office Income Return (%)'),\n",
       "  Text(8.5, 0, 'OCBD Apprec Return (%)'),\n",
       "  Text(9.5, 0, 'OSUB Apprec Return (%)'),\n",
       "  Text(10.5, 0, 'Office Apprec Return (%)'),\n",
       "  Text(11.5, 0, 'OCBD Total Return (%)'),\n",
       "  Text(12.5, 0, 'OSUB Total Return (%)'),\n",
       "  Text(13.5, 0, 'Office Total Return (%)')])"
      ]
     },
     "execution_count": 81,
     "metadata": {},
     "output_type": "execute_result"
    },
    {
     "data": {
      "image/png": "[encoded data removed]",
      "text/plain": [
       "<Figure size 936x936 with 2 Axes>"
      ]
     },
     "metadata": {},
     "output_type": "display_data"
    }
   ],
   "source": [
    "plt.subplots(figsize=(13,13))\n",
    "corr_orig = sns.heatmap(Combined2.corr(), annot=True, fmt='.2g', linewidth=1)\n",
    "plt.xticks(rotation=45)"
   ]
  },
  {
   "cell_type": "markdown",
   "metadata": {},
   "source": [
    "### Examine Potential Linear Relationship\n",
    "---\n",
    "**Correlation:**\n",
    "\n",
    "It appears that <u>A_MEAN</u> and <u>A_MEDIAN</u> exhibit the most significant positive correlations with the various office real estate returns; while <u>TOT_EMP</u> and <u>JOBS_1000</u> exhibit the most significant negative correlation. However, given the generally weak correlation between employment variables and real estate returns, further feature engineering is worth exploring. <br>\n",
    "<br>\n",
    "    \n",
    "**Multicollinearity**: \n",
    "    \n",
    " - **Features**: <u>TOT_EMP</u>, <u>JOBS_1000</u> and <u>LOC_QUOTIENT</u> appear highly correlated with one another, expecially the former two. These variables respectively represent the 10-year annualized growth rate of number of total employment, number of employment per 1000 jobs and the ratio of an occupation’s share of employment in a given area to that occupation’s share of employment in the U.S. as a whole. In the modeling stage, I will take this into consideration when choosing feature variables. <br>\n",
    "<br>    \n",
    "\n",
    " - **Output Variables** - Office Returns: As expected, the various types of Office returns are highly correlated with one another, especially between appreciation, income and total return for each of the three office categories (Total Office, Suburban Office - OSUB, and CBD Office - OCBD). Therefore, the 9 variables will be 9 separate output variables in the modeling stage.\n",
    "    \n",
    "*Note that all variables in the heatmap above are 10-year annualized growth/return for occupation and office real estate respectively."
   ]
  },
  {
   "cell_type": "code",
   "execution_count": null,
   "metadata": {},
   "outputs": [],
   "source": []
  }
 ],
 "metadata": {
  "kernelspec": {
   "display_name": "Python 3",
   "language": "python",
   "name": "python3"
  },
  "language_info": {
   "codemirror_mode": {
    "name": "ipython",
    "version": 3
   },
   "file_extension": ".py",
   "mimetype": "text/x-python",
   "name": "python",
   "nbconvert_exporter": "python",
   "pygments_lexer": "ipython3",
   "version": "3.8.5"
  }
 },
 "nbformat": 4,
 "nbformat_minor": 1
}
