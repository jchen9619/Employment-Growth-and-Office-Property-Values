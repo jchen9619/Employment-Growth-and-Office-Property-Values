{
 "cells": [
  {
   "cell_type": "markdown",
   "metadata": {},
   "source": [
    "<a id=\"data-source\"></a>\n",
    "## Data Dictionary for Preprocessed Dataset: Job Growth and Office Real Estate Values\n",
    "DATR-0316\n",
    "\n",
    "Judy Chen"
   ]
  },
  {
   "cell_type": "markdown",
   "metadata": {},
   "source": [
    "**MSA-OCC** SOC occupation title in a given MSA"
   ]
  },
  {
   "cell_type": "markdown",
   "metadata": {},
   "source": [
    "### Bureau of Labor Statistics (BLS) Data \n",
    "*All Quantitative Variables are 10-year annaulized growth (%)"
   ]
  },
  {
   "cell_type": "markdown",
   "metadata": {},
   "source": [
    "**TOT_EMP**\tEstimated total employment rounded to the nearest 10 (excludes self-employed).\n",
    "\n",
    "**JOBS_1000** - The number of jobs (employment) in the given occupation per 1,000 jobs in the given area. Only available for the state and MSA estimates; otherwise, this column is blank. \n",
    "\n",
    "**LOC_QUOTIENT (\"LOC QUOTIENT\" in May 2010 data)** - The location quotient represents the ratio of an occupation’s share of employment in a given area to that occupation’s share of employment in the U.S. as a whole. For example, an occupation that makes up 10 percent of employment in a specific metropolitan area compared with 2 percent of U.S. employment would have a location quotient of 5 for the area in question. Only available for the state, metropolitan area, and nonmetropolitan area estimates; otherwise, this column is blank.\n",
    "\n",
    "**A_MEAN** - Mean annual wage \n",
    "\n",
    "**A_MEDIAN** - Annual median wage (or the 50th percentile)"
   ]
  },
  {
   "cell_type": "markdown",
   "metadata": {},
   "source": [
    "### National Council of Real Estate Investment Fiduciaries (NCREIF) Property Index Data"
   ]
  },
  {
   "cell_type": "markdown",
   "metadata": {},
   "source": [
    "**OCBD Income Return (%)** - 10-year annualized return from income on CBD office properties in a given MSA\n",
    "\n",
    "**OSUB Income Return (%)** - 10-year annualized return from income on suburban office properties in a given MSA\n",
    "\n",
    "**Office Income Return (%)** - 10-year annualized return from income on total office properties in a given MSA\n",
    "\n",
    "**OCBD Apprec Return (%)** - 10-year annualized return from appreciation on CBD office properties in a given MSA\n",
    "\n",
    "**OSUB Apprec Return (%)** - 10-year annualized return from appreciation on suburban office properties in a given MSA\n",
    "\n",
    "**Office Apprec Return (%)** - 10-year annualized return from appreciation on total office properties in a given MSA\n",
    "\n",
    "**OCBD Total Return (%)** - 10-year annualized return on CBD office properties in a given MSA\n",
    "\n",
    "**OSUB Total Return (%)** - 10-year annualized return on suburban office properties in a given MSA\n",
    "\n",
    "**Office Total Return (%)** - 10-year annualized return on total office properties in a given MSA\n"
   ]
  },
  {
   "cell_type": "markdown",
   "metadata": {},
   "source": [
    "### Example - First Entry: "
   ]
  },
  {
   "cell_type": "code",
   "execution_count": 3,
   "metadata": {
    "tags": [
     "hide-input"
    ]
   },
   "outputs": [
    {
     "data": {
      "text/html": [
       "<div>\n",
       "<style scoped>\n",
       "    .dataframe tbody tr th:only-of-type {\n",
       "        vertical-align: middle;\n",
       "    }\n",
       "\n",
       "    .dataframe tbody tr th {\n",
       "        vertical-align: top;\n",
       "    }\n",
       "\n",
       "    .dataframe thead th {\n",
       "        text-align: right;\n",
       "    }\n",
       "</style>\n",
       "<table border=\"1\" class=\"dataframe\">\n",
       "  <thead>\n",
       "    <tr style=\"text-align: right;\">\n",
       "      <th></th>\n",
       "      <th>MSA-OCC</th>\n",
       "      <th>TOT_EMP</th>\n",
       "      <th>JOBS_1000</th>\n",
       "      <th>LOC_QUOTIENT</th>\n",
       "      <th>A_MEAN</th>\n",
       "      <th>A_MEDIAN</th>\n",
       "      <th>OCBD Income Return (%)</th>\n",
       "      <th>OSUB Income Return (%)</th>\n",
       "      <th>Office Income Return (%)</th>\n",
       "      <th>OCBD Apprec Return (%)</th>\n",
       "      <th>OSUB Apprec Return (%)</th>\n",
       "      <th>Office Apprec Return (%)</th>\n",
       "      <th>OCBD Total Return (%)</th>\n",
       "      <th>OSUB Total Return (%)</th>\n",
       "      <th>Office Total Return (%)</th>\n",
       "    </tr>\n",
       "  </thead>\n",
       "  <tbody>\n",
       "    <tr>\n",
       "      <th>0</th>\n",
       "      <td>Boston Architecture and Engineering Occupations</td>\n",
       "      <td>0.143743</td>\n",
       "      <td>-0.60453</td>\n",
       "      <td>-0.579625</td>\n",
       "      <td>1.947526</td>\n",
       "      <td>1.867002</td>\n",
       "      <td>0.105327</td>\n",
       "      <td>0.133564</td>\n",
       "      <td>0.114219</td>\n",
       "      <td>0.110515</td>\n",
       "      <td>0.170826</td>\n",
       "      <td>0.127703</td>\n",
       "      <td>0.219394</td>\n",
       "      <td>0.31101</td>\n",
       "      <td>0.31101</td>\n",
       "    </tr>\n",
       "  </tbody>\n",
       "</table>\n",
       "</div>"
      ],
      "text/plain": [
       "                                           MSA-OCC   TOT_EMP  JOBS_1000  \\\n",
       "0  Boston Architecture and Engineering Occupations  0.143743   -0.60453   \n",
       "\n",
       "   LOC_QUOTIENT    A_MEAN  A_MEDIAN  OCBD Income Return (%)  \\\n",
       "0     -0.579625  1.947526  1.867002                0.105327   \n",
       "\n",
       "   OSUB Income Return (%)  Office Income Return (%)  OCBD Apprec Return (%)  \\\n",
       "0                0.133564                  0.114219                0.110515   \n",
       "\n",
       "   OSUB Apprec Return (%)  Office Apprec Return (%)  OCBD Total Return (%)  \\\n",
       "0                0.170826                  0.127703               0.219394   \n",
       "\n",
       "   OSUB Total Return (%)  Office Total Return (%)  \n",
       "0                0.31101                  0.31101  "
      ]
     },
     "execution_count": 3,
     "metadata": {},
     "output_type": "execute_result"
    }
   ],
   "source": [
    "import os\n",
    "import pandas as pd\n",
    "Preprocessed_df=pd.read_excel('/Users/chenmouse/Desktop/GA-Folder/JudyChenGA0316/JC0316/GA Final Project/Preprocessed.xlsx')\n",
    "Preprocessed_df.head(1)"
   ]
  }
 ],
 "metadata": {
  "kernelspec": {
   "display_name": "Python 3",
   "language": "python",
   "name": "python3"
  },
  "language_info": {
   "codemirror_mode": {
    "name": "ipython",
    "version": 3
   },
   "file_extension": ".py",
   "mimetype": "text/x-python",
   "name": "python",
   "nbconvert_exporter": "python",
   "pygments_lexer": "ipython3",
   "version": "3.8.5"
  }
 },
 "nbformat": 4,
 "nbformat_minor": 1
}
